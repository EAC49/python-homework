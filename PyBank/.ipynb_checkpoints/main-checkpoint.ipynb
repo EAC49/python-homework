{
 "cells": [
  {
   "cell_type": "code",
   "execution_count": 9,
   "id": "244f7e94-e4e3-435a-b7b2-f38b1506cc78",
   "metadata": {},
   "outputs": [],
   "source": [
    "from pathlib import Path\n",
    "import csv"
   ]
  },
  {
   "cell_type": "code",
   "execution_count": 10,
   "id": "cc6d78f9-e9ef-49b1-8d17-9ec730b9c1f6",
   "metadata": {},
   "outputs": [],
   "source": [
    "filepath = Path(\"Resources/budget_data.csv\")"
   ]
  },
  {
   "cell_type": "code",
   "execution_count": 11,
   "id": "37cb599a-a2ea-4d89-afcc-a2998c3f63b4",
   "metadata": {},
   "outputs": [
    {
     "name": "stdout",
     "output_type": "stream",
     "text": [
      "Financial Analyses\n",
      "------------------------------------------------\n",
      "Total Months: 86\n",
      "Total: $38382578\n",
      "Average Change: $-2315.12\n",
      "Greatest Increase in Profits: Feb-2012 $(1926159)\n",
      "Greatest Decrease in Profits: Sep-2013 $(-2196167)\n"
     ]
    }
   ],
   "source": [
    "with open(filepath,\"r\") as file:\n",
    "    budget_data = csv.reader(file,delimiter=',')\n",
    "    header = next(budget_data)\n",
    "    \n",
    "    month = []\n",
    "    pl = []\n",
    "    \n",
    "    print(\"Financial Analyses\")\n",
    "    print('------------------------------------------------')\n",
    "    \n",
    "    for row in budget_data:\n",
    "        \n",
    "        month.append(row[0])\n",
    "        pl.append(row[1])\n",
    "        \n",
    "    print(f'Total Months: {len(month)}')\n",
    "    \n",
    "    sum_pl = 0\n",
    "    \n",
    "    for x in pl:\n",
    "\n",
    "        sum_pl += int(x)\n",
    "        \n",
    "    print(f'Total: ${sum_pl}')\n",
    "\n",
    "    \n",
    "    delta = []\n",
    "    total = 0\n",
    "    \n",
    "    for i in range(len(pl) - 1):\n",
    "        \n",
    "        net = int(pl[i+1]) - int(pl[i])\n",
    "        \n",
    "        delta.append(net)\n",
    "        \n",
    "    for m in delta:\n",
    "        \n",
    "        total += m\n",
    " \n",
    "    ave_change = total / len(delta)\n",
    "    \n",
    "    print(f'Average Change: ${round(ave_change,2)}')\n",
    "    \n",
    "    \n",
    "    largest = delta[0]\n",
    "    \n",
    "    for number in delta:\n",
    "        \n",
    "        if number > largest:\n",
    "            \n",
    "            largest = number\n",
    "            \n",
    "    date_increase_index = delta.index(largest)\n",
    "    \n",
    "    date_increase = month[date_increase_index + 1]\n",
    "     \n",
    "    print(f\"Greatest Increase in Profits: {date_increase} $({largest})\")\n",
    "    \n",
    "    \n",
    "    smallest = delta[0]\n",
    "    \n",
    "    for number in delta:\n",
    "        \n",
    "        if number < smallest:\n",
    "            \n",
    "            smallest = number\n",
    "            \n",
    "    date_decrease_index = delta.index(smallest)\n",
    "    \n",
    "    date_decrease = month[date_decrease_index + 1]\n",
    "     \n",
    "    print(f\"Greatest Decrease in Profits: {date_decrease} $({smallest})\")"
   ]
  },
  {
   "cell_type": "code",
   "execution_count": 40,
   "id": "f17082ac-720a-4bbd-850e-f11d4f3f4d07",
   "metadata": {},
   "outputs": [],
   "source": [
    "#The total number of months included in the dataset.\n",
    "\n",
    "#The net total amount of Profit/Losses over the entire period.\n",
    "\n",
    "#The average of the changes in Profit/Losses over the entire period.\n",
    "\n",
    "#The greatest increase in profits (date and amount) over the entire period.\n",
    "\n",
    "#The greatest decrease in losses (date and amount) over the entire period."
   ]
  },
  {
   "cell_type": "code",
   "execution_count": 12,
   "id": "2709f55c-ca70-4942-90e8-533d02eedb58",
   "metadata": {},
   "outputs": [],
   "source": [
    "output_path = Path(\"financial_analyses.txt\")\n",
    "with open(output_path,\"w\") as f:\n",
    "    f.write(\"Financial Analyses \\n\")\n",
    "    f.write('------------------------------------------------ \\n')\n",
    "    f.write(f'Total Months: {len(month)}\\n')\n",
    "    f.write(f'Total: ${sum_pl} \\n')\n",
    "    f.write(f'Average Change: ${round(ave_change,2)} \\n')\n",
    "    f.write(f\"Greatest Increase in Profits: {date_increase} $({largest}) \\n\")\n",
    "    f.write(f\"Greatest Decrease in Profits: {date_decrease} $({smallest}) \\n\")"
   ]
  },
  {
   "cell_type": "code",
   "execution_count": null,
   "id": "43538f34-239e-4634-8dcd-8879dfe3318f",
   "metadata": {},
   "outputs": [],
   "source": []
  }
 ],
 "metadata": {
  "kernelspec": {
   "display_name": "Python 3 (ipykernel)",
   "language": "python",
   "name": "python3"
  },
  "language_info": {
   "codemirror_mode": {
    "name": "ipython",
    "version": 3
   },
   "file_extension": ".py",
   "mimetype": "text/x-python",
   "name": "python",
   "nbconvert_exporter": "python",
   "pygments_lexer": "ipython3",
   "version": "3.7.11"
  }
 },
 "nbformat": 4,
 "nbformat_minor": 5
}
